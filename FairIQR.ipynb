{
 "cells": [
  {
   "cell_type": "code",
   "execution_count": null,
   "id": "edb3b224",
   "metadata": {},
   "outputs": [],
   "source": [
    "#Standard deviation and variance\n",
    "#Average of squared difference between the mean- variance(we cannot able to measure it, becoz It has no standard unit)\n",
    "\n",
    "#standard deviation is the squareroot of variance(we can able to measure it,becoz It has unit)\n"
   ]
  },
  {
   "cell_type": "code",
   "execution_count": 1,
   "id": "20457373",
   "metadata": {},
   "outputs": [
    {
     "name": "stdout",
     "output_type": "stream",
     "text": [
      "sl_no\n",
      "gender\n",
      "ssc_p\n",
      "ssc_b\n",
      "hsc_p\n",
      "hsc_b\n",
      "hsc_s\n",
      "degree_p\n",
      "degree_t\n",
      "workex\n",
      "etest_p\n",
      "specialisation\n",
      "mba_p\n",
      "status\n",
      "salary\n"
     ]
    }
   ],
   "source": [
    "#import libraries and load dataset\n",
    "import pandas as pd\n",
    "dataset=pd.read_csv(\"Placement.csv\")\n",
    "from univariate import Univariate\n",
    "obj=Univariate()\n",
    "quan,qual=obj.QuanQual(dataset)"
   ]
  },
  {
   "cell_type": "code",
   "execution_count": 3,
   "id": "126128d7",
   "metadata": {},
   "outputs": [
    {
     "data": {
      "text/plain": [
       "40.89"
      ]
     },
     "execution_count": 3,
     "metadata": {},
     "output_type": "execute_result"
    }
   ],
   "source": [
    "#finding min value for a col\n",
    "dataset[\"ssc_p\"].min()"
   ]
  },
  {
   "cell_type": "code",
   "execution_count": 4,
   "id": "a483d57c",
   "metadata": {},
   "outputs": [
    {
     "data": {
      "text/plain": [
       "sl_no              0\n",
       "gender             0\n",
       "ssc_p              0\n",
       "ssc_b              0\n",
       "hsc_p              0\n",
       "hsc_b              0\n",
       "hsc_s              0\n",
       "degree_p           0\n",
       "degree_t           0\n",
       "workex             0\n",
       "etest_p            0\n",
       "specialisation     0\n",
       "mba_p              0\n",
       "status             0\n",
       "salary            67\n",
       "dtype: int64"
      ]
     },
     "execution_count": 4,
     "metadata": {},
     "output_type": "execute_result"
    }
   ],
   "source": [
    "#checking null values in the dataset\n",
    "dataset.isnull().sum()\n",
    "\n"
   ]
  },
  {
   "cell_type": "code",
   "execution_count": 6,
   "id": "2e79d948",
   "metadata": {},
   "outputs": [],
   "source": [
    "dataset[\"salary\"]=dataset[\"salary\"].fillna(0)\n",
    "#fill Null values with 0"
   ]
  },
  {
   "cell_type": "code",
   "execution_count": 7,
   "id": "bf61669f",
   "metadata": {},
   "outputs": [],
   "source": [
    "Uni=obj.uniAnalysis(dataset,quan)"
   ]
  },
  {
   "cell_type": "code",
   "execution_count": 8,
   "id": "75694a0c",
   "metadata": {},
   "outputs": [
    {
     "data": {
      "text/html": [
       "<div>\n",
       "<style scoped>\n",
       "    .dataframe tbody tr th:only-of-type {\n",
       "        vertical-align: middle;\n",
       "    }\n",
       "\n",
       "    .dataframe tbody tr th {\n",
       "        vertical-align: top;\n",
       "    }\n",
       "\n",
       "    .dataframe thead th {\n",
       "        text-align: right;\n",
       "    }\n",
       "</style>\n",
       "<table border=\"1\" class=\"dataframe\">\n",
       "  <thead>\n",
       "    <tr style=\"text-align: right;\">\n",
       "      <th></th>\n",
       "      <th>sl_no</th>\n",
       "      <th>ssc_p</th>\n",
       "      <th>hsc_p</th>\n",
       "      <th>degree_p</th>\n",
       "      <th>etest_p</th>\n",
       "      <th>mba_p</th>\n",
       "      <th>salary</th>\n",
       "    </tr>\n",
       "  </thead>\n",
       "  <tbody>\n",
       "    <tr>\n",
       "      <th>Mean</th>\n",
       "      <td>108.0</td>\n",
       "      <td>67.303395</td>\n",
       "      <td>66.333163</td>\n",
       "      <td>66.370186</td>\n",
       "      <td>72.100558</td>\n",
       "      <td>62.278186</td>\n",
       "      <td>198702.325581</td>\n",
       "    </tr>\n",
       "    <tr>\n",
       "      <th>Median</th>\n",
       "      <td>108.0</td>\n",
       "      <td>67.0</td>\n",
       "      <td>65.0</td>\n",
       "      <td>66.0</td>\n",
       "      <td>71.0</td>\n",
       "      <td>62.0</td>\n",
       "      <td>240000.0</td>\n",
       "    </tr>\n",
       "    <tr>\n",
       "      <th>Mode</th>\n",
       "      <td>1</td>\n",
       "      <td>62.0</td>\n",
       "      <td>63.0</td>\n",
       "      <td>65.0</td>\n",
       "      <td>60.0</td>\n",
       "      <td>56.7</td>\n",
       "      <td>0.0</td>\n",
       "    </tr>\n",
       "    <tr>\n",
       "      <th>25th</th>\n",
       "      <td>54.5</td>\n",
       "      <td>60.6</td>\n",
       "      <td>60.9</td>\n",
       "      <td>61.0</td>\n",
       "      <td>60.0</td>\n",
       "      <td>57.945</td>\n",
       "      <td>0.0</td>\n",
       "    </tr>\n",
       "    <tr>\n",
       "      <th>50th</th>\n",
       "      <td>108.0</td>\n",
       "      <td>67.0</td>\n",
       "      <td>65.0</td>\n",
       "      <td>66.0</td>\n",
       "      <td>71.0</td>\n",
       "      <td>62.0</td>\n",
       "      <td>240000.0</td>\n",
       "    </tr>\n",
       "    <tr>\n",
       "      <th>75th</th>\n",
       "      <td>161.5</td>\n",
       "      <td>75.7</td>\n",
       "      <td>73.0</td>\n",
       "      <td>72.0</td>\n",
       "      <td>83.5</td>\n",
       "      <td>66.255</td>\n",
       "      <td>282500.0</td>\n",
       "    </tr>\n",
       "    <tr>\n",
       "      <th>99th</th>\n",
       "      <td>212.86</td>\n",
       "      <td>87.0</td>\n",
       "      <td>91.86</td>\n",
       "      <td>83.86</td>\n",
       "      <td>97.0</td>\n",
       "      <td>76.1142</td>\n",
       "      <td>629000.0</td>\n",
       "    </tr>\n",
       "    <tr>\n",
       "      <th>100th</th>\n",
       "      <td>215.0</td>\n",
       "      <td>89.4</td>\n",
       "      <td>97.7</td>\n",
       "      <td>91.0</td>\n",
       "      <td>98.0</td>\n",
       "      <td>77.89</td>\n",
       "      <td>940000.0</td>\n",
       "    </tr>\n",
       "    <tr>\n",
       "      <th>IQR</th>\n",
       "      <td>107.0</td>\n",
       "      <td>15.1</td>\n",
       "      <td>12.1</td>\n",
       "      <td>11.0</td>\n",
       "      <td>23.5</td>\n",
       "      <td>8.31</td>\n",
       "      <td>282500.0</td>\n",
       "    </tr>\n",
       "    <tr>\n",
       "      <th>1.5IQR</th>\n",
       "      <td>160.5</td>\n",
       "      <td>22.65</td>\n",
       "      <td>18.15</td>\n",
       "      <td>16.5</td>\n",
       "      <td>35.25</td>\n",
       "      <td>12.465</td>\n",
       "      <td>423750.0</td>\n",
       "    </tr>\n",
       "    <tr>\n",
       "      <th>Lesser</th>\n",
       "      <td>-106.0</td>\n",
       "      <td>37.95</td>\n",
       "      <td>42.75</td>\n",
       "      <td>44.5</td>\n",
       "      <td>24.75</td>\n",
       "      <td>45.48</td>\n",
       "      <td>-423750.0</td>\n",
       "    </tr>\n",
       "    <tr>\n",
       "      <th>Greater</th>\n",
       "      <td>322.0</td>\n",
       "      <td>98.35</td>\n",
       "      <td>91.15</td>\n",
       "      <td>88.5</td>\n",
       "      <td>118.75</td>\n",
       "      <td>78.72</td>\n",
       "      <td>706250.0</td>\n",
       "    </tr>\n",
       "    <tr>\n",
       "      <th>Min</th>\n",
       "      <td>1</td>\n",
       "      <td>40.89</td>\n",
       "      <td>37.0</td>\n",
       "      <td>50.0</td>\n",
       "      <td>50.0</td>\n",
       "      <td>51.21</td>\n",
       "      <td>0.0</td>\n",
       "    </tr>\n",
       "    <tr>\n",
       "      <th>Max</th>\n",
       "      <td>215</td>\n",
       "      <td>89.4</td>\n",
       "      <td>97.7</td>\n",
       "      <td>91.0</td>\n",
       "      <td>98.0</td>\n",
       "      <td>77.89</td>\n",
       "      <td>940000.0</td>\n",
       "    </tr>\n",
       "    <tr>\n",
       "      <th>Std</th>\n",
       "      <td>62.209324</td>\n",
       "      <td>10.827205</td>\n",
       "      <td>10.897509</td>\n",
       "      <td>7.358743</td>\n",
       "      <td>13.275956</td>\n",
       "      <td>5.833385</td>\n",
       "      <td>154780.926716</td>\n",
       "    </tr>\n",
       "    <tr>\n",
       "      <th>Variance</th>\n",
       "      <td>3870.0</td>\n",
       "      <td>117.228377</td>\n",
       "      <td>118.755706</td>\n",
       "      <td>54.151103</td>\n",
       "      <td>176.251018</td>\n",
       "      <td>34.028376</td>\n",
       "      <td>23957135274.940266</td>\n",
       "    </tr>\n",
       "  </tbody>\n",
       "</table>\n",
       "</div>"
      ],
      "text/plain": [
       "              sl_no       ssc_p       hsc_p   degree_p     etest_p      mba_p  \\\n",
       "Mean          108.0   67.303395   66.333163  66.370186   72.100558  62.278186   \n",
       "Median        108.0        67.0        65.0       66.0        71.0       62.0   \n",
       "Mode              1        62.0        63.0       65.0        60.0       56.7   \n",
       "25th           54.5        60.6        60.9       61.0        60.0     57.945   \n",
       "50th          108.0        67.0        65.0       66.0        71.0       62.0   \n",
       "75th          161.5        75.7        73.0       72.0        83.5     66.255   \n",
       "99th         212.86        87.0       91.86      83.86        97.0    76.1142   \n",
       "100th         215.0        89.4        97.7       91.0        98.0      77.89   \n",
       "IQR           107.0        15.1        12.1       11.0        23.5       8.31   \n",
       "1.5IQR        160.5       22.65       18.15       16.5       35.25     12.465   \n",
       "Lesser       -106.0       37.95       42.75       44.5       24.75      45.48   \n",
       "Greater       322.0       98.35       91.15       88.5      118.75      78.72   \n",
       "Min               1       40.89        37.0       50.0        50.0      51.21   \n",
       "Max             215        89.4        97.7       91.0        98.0      77.89   \n",
       "Std       62.209324   10.827205   10.897509   7.358743   13.275956   5.833385   \n",
       "Variance     3870.0  117.228377  118.755706  54.151103  176.251018  34.028376   \n",
       "\n",
       "                      salary  \n",
       "Mean           198702.325581  \n",
       "Median              240000.0  \n",
       "Mode                     0.0  \n",
       "25th                     0.0  \n",
       "50th                240000.0  \n",
       "75th                282500.0  \n",
       "99th                629000.0  \n",
       "100th               940000.0  \n",
       "IQR                 282500.0  \n",
       "1.5IQR              423750.0  \n",
       "Lesser             -423750.0  \n",
       "Greater             706250.0  \n",
       "Min                      0.0  \n",
       "Max                 940000.0  \n",
       "Std            154780.926716  \n",
       "Variance  23957135274.940266  "
      ]
     },
     "execution_count": 8,
     "metadata": {},
     "output_type": "execute_result"
    }
   ],
   "source": [
    "Uni"
   ]
  },
  {
   "cell_type": "code",
   "execution_count": 9,
   "id": "c30fd6de",
   "metadata": {},
   "outputs": [
    {
     "data": {
      "text/plain": [
       "True"
      ]
     },
     "execution_count": 9,
     "metadata": {},
     "output_type": "execute_result"
    }
   ],
   "source": [
    "Uni[\"ssc_p\"][\"Lesser\"]<Uni[\"ssc_p\"][\"Min\"]"
   ]
  },
  {
   "cell_type": "code",
   "execution_count": 10,
   "id": "a9403cf0",
   "metadata": {},
   "outputs": [],
   "source": [
    "lesser=[]\n",
    "greater=[]\n",
    "\n",
    "for columName in quan:\n",
    "    if(Uni[columName][\"Lesser\"]>Uni[columName][\"Min\"]):\n",
    "        lesser.append(columName)\n",
    "    if(Uni[columName][\"Greater\"]<Uni[columName][\"Max\"]):\n",
    "        greater.append(columName)\n",
    "        "
   ]
  },
  {
   "cell_type": "code",
   "execution_count": 11,
   "id": "6e1715df",
   "metadata": {},
   "outputs": [
    {
     "data": {
      "text/plain": [
       "['hsc_p']"
      ]
     },
     "execution_count": 11,
     "metadata": {},
     "output_type": "execute_result"
    }
   ],
   "source": [
    "lesser"
   ]
  },
  {
   "cell_type": "code",
   "execution_count": 12,
   "id": "6bba9f43",
   "metadata": {},
   "outputs": [
    {
     "data": {
      "text/plain": [
       "['hsc_p', 'degree_p', 'salary']"
      ]
     },
     "execution_count": 12,
     "metadata": {},
     "output_type": "execute_result"
    }
   ],
   "source": [
    "greater"
   ]
  },
  {
   "cell_type": "code",
   "execution_count": 13,
   "id": "4adbe451",
   "metadata": {},
   "outputs": [
    {
     "data": {
      "text/html": [
       "<div>\n",
       "<style scoped>\n",
       "    .dataframe tbody tr th:only-of-type {\n",
       "        vertical-align: middle;\n",
       "    }\n",
       "\n",
       "    .dataframe tbody tr th {\n",
       "        vertical-align: top;\n",
       "    }\n",
       "\n",
       "    .dataframe thead th {\n",
       "        text-align: right;\n",
       "    }\n",
       "</style>\n",
       "<table border=\"1\" class=\"dataframe\">\n",
       "  <thead>\n",
       "    <tr style=\"text-align: right;\">\n",
       "      <th></th>\n",
       "      <th>sl_no</th>\n",
       "      <th>gender</th>\n",
       "      <th>ssc_p</th>\n",
       "      <th>ssc_b</th>\n",
       "      <th>hsc_p</th>\n",
       "      <th>hsc_b</th>\n",
       "      <th>hsc_s</th>\n",
       "      <th>degree_p</th>\n",
       "      <th>degree_t</th>\n",
       "      <th>workex</th>\n",
       "      <th>etest_p</th>\n",
       "      <th>specialisation</th>\n",
       "      <th>mba_p</th>\n",
       "      <th>status</th>\n",
       "      <th>salary</th>\n",
       "    </tr>\n",
       "  </thead>\n",
       "  <tbody>\n",
       "    <tr>\n",
       "      <th>0</th>\n",
       "      <td>1</td>\n",
       "      <td>M</td>\n",
       "      <td>67.00</td>\n",
       "      <td>Others</td>\n",
       "      <td>91.00</td>\n",
       "      <td>Others</td>\n",
       "      <td>Commerce</td>\n",
       "      <td>58.00</td>\n",
       "      <td>Sci&amp;Tech</td>\n",
       "      <td>No</td>\n",
       "      <td>55.0</td>\n",
       "      <td>Mkt&amp;HR</td>\n",
       "      <td>58.80</td>\n",
       "      <td>Placed</td>\n",
       "      <td>270000.0</td>\n",
       "    </tr>\n",
       "    <tr>\n",
       "      <th>1</th>\n",
       "      <td>2</td>\n",
       "      <td>M</td>\n",
       "      <td>79.33</td>\n",
       "      <td>Central</td>\n",
       "      <td>78.33</td>\n",
       "      <td>Others</td>\n",
       "      <td>Science</td>\n",
       "      <td>77.48</td>\n",
       "      <td>Sci&amp;Tech</td>\n",
       "      <td>Yes</td>\n",
       "      <td>86.5</td>\n",
       "      <td>Mkt&amp;Fin</td>\n",
       "      <td>66.28</td>\n",
       "      <td>Placed</td>\n",
       "      <td>200000.0</td>\n",
       "    </tr>\n",
       "    <tr>\n",
       "      <th>2</th>\n",
       "      <td>3</td>\n",
       "      <td>M</td>\n",
       "      <td>65.00</td>\n",
       "      <td>Central</td>\n",
       "      <td>68.00</td>\n",
       "      <td>Central</td>\n",
       "      <td>Arts</td>\n",
       "      <td>64.00</td>\n",
       "      <td>Comm&amp;Mgmt</td>\n",
       "      <td>No</td>\n",
       "      <td>75.0</td>\n",
       "      <td>Mkt&amp;Fin</td>\n",
       "      <td>57.80</td>\n",
       "      <td>Placed</td>\n",
       "      <td>250000.0</td>\n",
       "    </tr>\n",
       "    <tr>\n",
       "      <th>3</th>\n",
       "      <td>4</td>\n",
       "      <td>M</td>\n",
       "      <td>56.00</td>\n",
       "      <td>Central</td>\n",
       "      <td>52.00</td>\n",
       "      <td>Central</td>\n",
       "      <td>Science</td>\n",
       "      <td>52.00</td>\n",
       "      <td>Sci&amp;Tech</td>\n",
       "      <td>No</td>\n",
       "      <td>66.0</td>\n",
       "      <td>Mkt&amp;HR</td>\n",
       "      <td>59.43</td>\n",
       "      <td>Not Placed</td>\n",
       "      <td>0.0</td>\n",
       "    </tr>\n",
       "    <tr>\n",
       "      <th>4</th>\n",
       "      <td>5</td>\n",
       "      <td>M</td>\n",
       "      <td>85.80</td>\n",
       "      <td>Central</td>\n",
       "      <td>73.60</td>\n",
       "      <td>Central</td>\n",
       "      <td>Commerce</td>\n",
       "      <td>73.30</td>\n",
       "      <td>Comm&amp;Mgmt</td>\n",
       "      <td>No</td>\n",
       "      <td>96.8</td>\n",
       "      <td>Mkt&amp;Fin</td>\n",
       "      <td>55.50</td>\n",
       "      <td>Placed</td>\n",
       "      <td>425000.0</td>\n",
       "    </tr>\n",
       "    <tr>\n",
       "      <th>...</th>\n",
       "      <td>...</td>\n",
       "      <td>...</td>\n",
       "      <td>...</td>\n",
       "      <td>...</td>\n",
       "      <td>...</td>\n",
       "      <td>...</td>\n",
       "      <td>...</td>\n",
       "      <td>...</td>\n",
       "      <td>...</td>\n",
       "      <td>...</td>\n",
       "      <td>...</td>\n",
       "      <td>...</td>\n",
       "      <td>...</td>\n",
       "      <td>...</td>\n",
       "      <td>...</td>\n",
       "    </tr>\n",
       "    <tr>\n",
       "      <th>210</th>\n",
       "      <td>211</td>\n",
       "      <td>M</td>\n",
       "      <td>80.60</td>\n",
       "      <td>Others</td>\n",
       "      <td>82.00</td>\n",
       "      <td>Others</td>\n",
       "      <td>Commerce</td>\n",
       "      <td>77.60</td>\n",
       "      <td>Comm&amp;Mgmt</td>\n",
       "      <td>No</td>\n",
       "      <td>91.0</td>\n",
       "      <td>Mkt&amp;Fin</td>\n",
       "      <td>74.49</td>\n",
       "      <td>Placed</td>\n",
       "      <td>400000.0</td>\n",
       "    </tr>\n",
       "    <tr>\n",
       "      <th>211</th>\n",
       "      <td>212</td>\n",
       "      <td>M</td>\n",
       "      <td>58.00</td>\n",
       "      <td>Others</td>\n",
       "      <td>60.00</td>\n",
       "      <td>Others</td>\n",
       "      <td>Science</td>\n",
       "      <td>72.00</td>\n",
       "      <td>Sci&amp;Tech</td>\n",
       "      <td>No</td>\n",
       "      <td>74.0</td>\n",
       "      <td>Mkt&amp;Fin</td>\n",
       "      <td>53.62</td>\n",
       "      <td>Placed</td>\n",
       "      <td>275000.0</td>\n",
       "    </tr>\n",
       "    <tr>\n",
       "      <th>212</th>\n",
       "      <td>213</td>\n",
       "      <td>M</td>\n",
       "      <td>67.00</td>\n",
       "      <td>Others</td>\n",
       "      <td>67.00</td>\n",
       "      <td>Others</td>\n",
       "      <td>Commerce</td>\n",
       "      <td>73.00</td>\n",
       "      <td>Comm&amp;Mgmt</td>\n",
       "      <td>Yes</td>\n",
       "      <td>59.0</td>\n",
       "      <td>Mkt&amp;Fin</td>\n",
       "      <td>69.72</td>\n",
       "      <td>Placed</td>\n",
       "      <td>295000.0</td>\n",
       "    </tr>\n",
       "    <tr>\n",
       "      <th>213</th>\n",
       "      <td>214</td>\n",
       "      <td>F</td>\n",
       "      <td>74.00</td>\n",
       "      <td>Others</td>\n",
       "      <td>66.00</td>\n",
       "      <td>Others</td>\n",
       "      <td>Commerce</td>\n",
       "      <td>58.00</td>\n",
       "      <td>Comm&amp;Mgmt</td>\n",
       "      <td>No</td>\n",
       "      <td>70.0</td>\n",
       "      <td>Mkt&amp;HR</td>\n",
       "      <td>60.23</td>\n",
       "      <td>Placed</td>\n",
       "      <td>204000.0</td>\n",
       "    </tr>\n",
       "    <tr>\n",
       "      <th>214</th>\n",
       "      <td>215</td>\n",
       "      <td>M</td>\n",
       "      <td>62.00</td>\n",
       "      <td>Central</td>\n",
       "      <td>58.00</td>\n",
       "      <td>Others</td>\n",
       "      <td>Science</td>\n",
       "      <td>53.00</td>\n",
       "      <td>Comm&amp;Mgmt</td>\n",
       "      <td>No</td>\n",
       "      <td>89.0</td>\n",
       "      <td>Mkt&amp;HR</td>\n",
       "      <td>60.22</td>\n",
       "      <td>Not Placed</td>\n",
       "      <td>0.0</td>\n",
       "    </tr>\n",
       "  </tbody>\n",
       "</table>\n",
       "<p>215 rows × 15 columns</p>\n",
       "</div>"
      ],
      "text/plain": [
       "     sl_no gender  ssc_p    ssc_b  hsc_p    hsc_b     hsc_s  degree_p  \\\n",
       "0        1      M  67.00   Others  91.00   Others  Commerce     58.00   \n",
       "1        2      M  79.33  Central  78.33   Others   Science     77.48   \n",
       "2        3      M  65.00  Central  68.00  Central      Arts     64.00   \n",
       "3        4      M  56.00  Central  52.00  Central   Science     52.00   \n",
       "4        5      M  85.80  Central  73.60  Central  Commerce     73.30   \n",
       "..     ...    ...    ...      ...    ...      ...       ...       ...   \n",
       "210    211      M  80.60   Others  82.00   Others  Commerce     77.60   \n",
       "211    212      M  58.00   Others  60.00   Others   Science     72.00   \n",
       "212    213      M  67.00   Others  67.00   Others  Commerce     73.00   \n",
       "213    214      F  74.00   Others  66.00   Others  Commerce     58.00   \n",
       "214    215      M  62.00  Central  58.00   Others   Science     53.00   \n",
       "\n",
       "      degree_t workex  etest_p specialisation  mba_p      status    salary  \n",
       "0     Sci&Tech     No     55.0         Mkt&HR  58.80      Placed  270000.0  \n",
       "1     Sci&Tech    Yes     86.5        Mkt&Fin  66.28      Placed  200000.0  \n",
       "2    Comm&Mgmt     No     75.0        Mkt&Fin  57.80      Placed  250000.0  \n",
       "3     Sci&Tech     No     66.0         Mkt&HR  59.43  Not Placed       0.0  \n",
       "4    Comm&Mgmt     No     96.8        Mkt&Fin  55.50      Placed  425000.0  \n",
       "..         ...    ...      ...            ...    ...         ...       ...  \n",
       "210  Comm&Mgmt     No     91.0        Mkt&Fin  74.49      Placed  400000.0  \n",
       "211   Sci&Tech     No     74.0        Mkt&Fin  53.62      Placed  275000.0  \n",
       "212  Comm&Mgmt    Yes     59.0        Mkt&Fin  69.72      Placed  295000.0  \n",
       "213  Comm&Mgmt     No     70.0         Mkt&HR  60.23      Placed  204000.0  \n",
       "214  Comm&Mgmt     No     89.0         Mkt&HR  60.22  Not Placed       0.0  \n",
       "\n",
       "[215 rows x 15 columns]"
      ]
     },
     "execution_count": 13,
     "metadata": {},
     "output_type": "execute_result"
    }
   ],
   "source": [
    "#dataset[\"ssc_p\"][dataset[\"ssc_p\"]>Uni[\"ssc_p\"][\"Lesser\"]]=Uni[\"ssc_p\"][\"Lesser\"]\n",
    "dataset"
   ]
  },
  {
   "cell_type": "code",
   "execution_count": 14,
   "id": "f9501948",
   "metadata": {},
   "outputs": [
    {
     "name": "stderr",
     "output_type": "stream",
     "text": [
      "C:\\Users\\Yaazh\\AppData\\Local\\Temp\\ipykernel_19852\\1840419149.py:2: SettingWithCopyWarning: \n",
      "A value is trying to be set on a copy of a slice from a DataFrame\n",
      "\n",
      "See the caveats in the documentation: https://pandas.pydata.org/pandas-docs/stable/user_guide/indexing.html#returning-a-view-versus-a-copy\n",
      "  dataset[lesscolumn][dataset[lesscolumn]<Uni[lesscolumn][\"Lesser\"]]=Uni[lesscolumn][\"Lesser\"]\n",
      "C:\\Users\\Yaazh\\AppData\\Local\\Temp\\ipykernel_19852\\1840419149.py:4: SettingWithCopyWarning: \n",
      "A value is trying to be set on a copy of a slice from a DataFrame\n",
      "\n",
      "See the caveats in the documentation: https://pandas.pydata.org/pandas-docs/stable/user_guide/indexing.html#returning-a-view-versus-a-copy\n",
      "  dataset[greatercolum][dataset[greatercolum]>Uni[greatercolum][\"Greater\"]]=Uni[greatercolum][\"Greater\"]\n"
     ]
    }
   ],
   "source": [
    "for lesscolumn in lesser:\n",
    "    dataset[lesscolumn][dataset[lesscolumn]<Uni[lesscolumn][\"Lesser\"]]=Uni[lesscolumn][\"Lesser\"]\n",
    "for greatercolum in greater:\n",
    "    dataset[greatercolum][dataset[greatercolum]>Uni[greatercolum][\"Greater\"]]=Uni[greatercolum][\"Greater\"]\n",
    "    \n",
    "    "
   ]
  },
  {
   "cell_type": "code",
   "execution_count": 15,
   "id": "d5f2a29f",
   "metadata": {},
   "outputs": [],
   "source": [
    "Uni_after=obj.uniAnalysis(dataset,quan)"
   ]
  },
  {
   "cell_type": "code",
   "execution_count": 16,
   "id": "fd42d4c4",
   "metadata": {
    "scrolled": true
   },
   "outputs": [
    {
     "data": {
      "text/html": [
       "<div>\n",
       "<style scoped>\n",
       "    .dataframe tbody tr th:only-of-type {\n",
       "        vertical-align: middle;\n",
       "    }\n",
       "\n",
       "    .dataframe tbody tr th {\n",
       "        vertical-align: top;\n",
       "    }\n",
       "\n",
       "    .dataframe thead th {\n",
       "        text-align: right;\n",
       "    }\n",
       "</style>\n",
       "<table border=\"1\" class=\"dataframe\">\n",
       "  <thead>\n",
       "    <tr style=\"text-align: right;\">\n",
       "      <th></th>\n",
       "      <th>sl_no</th>\n",
       "      <th>ssc_p</th>\n",
       "      <th>hsc_p</th>\n",
       "      <th>degree_p</th>\n",
       "      <th>etest_p</th>\n",
       "      <th>mba_p</th>\n",
       "      <th>salary</th>\n",
       "    </tr>\n",
       "  </thead>\n",
       "  <tbody>\n",
       "    <tr>\n",
       "      <th>Mean</th>\n",
       "      <td>108.0</td>\n",
       "      <td>67.303395</td>\n",
       "      <td>66.334744</td>\n",
       "      <td>66.358558</td>\n",
       "      <td>72.100558</td>\n",
       "      <td>62.278186</td>\n",
       "      <td>197615.116279</td>\n",
       "    </tr>\n",
       "    <tr>\n",
       "      <th>Median</th>\n",
       "      <td>108.0</td>\n",
       "      <td>67.0</td>\n",
       "      <td>65.0</td>\n",
       "      <td>66.0</td>\n",
       "      <td>71.0</td>\n",
       "      <td>62.0</td>\n",
       "      <td>240000.0</td>\n",
       "    </tr>\n",
       "    <tr>\n",
       "      <th>Mode</th>\n",
       "      <td>1</td>\n",
       "      <td>62.0</td>\n",
       "      <td>63.0</td>\n",
       "      <td>65.0</td>\n",
       "      <td>60.0</td>\n",
       "      <td>56.7</td>\n",
       "      <td>0.0</td>\n",
       "    </tr>\n",
       "    <tr>\n",
       "      <th>25th</th>\n",
       "      <td>54.5</td>\n",
       "      <td>60.6</td>\n",
       "      <td>60.9</td>\n",
       "      <td>61.0</td>\n",
       "      <td>60.0</td>\n",
       "      <td>57.945</td>\n",
       "      <td>0.0</td>\n",
       "    </tr>\n",
       "    <tr>\n",
       "      <th>50th</th>\n",
       "      <td>108.0</td>\n",
       "      <td>67.0</td>\n",
       "      <td>65.0</td>\n",
       "      <td>66.0</td>\n",
       "      <td>71.0</td>\n",
       "      <td>62.0</td>\n",
       "      <td>240000.0</td>\n",
       "    </tr>\n",
       "    <tr>\n",
       "      <th>75th</th>\n",
       "      <td>161.5</td>\n",
       "      <td>75.7</td>\n",
       "      <td>73.0</td>\n",
       "      <td>72.0</td>\n",
       "      <td>83.5</td>\n",
       "      <td>66.255</td>\n",
       "      <td>282500.0</td>\n",
       "    </tr>\n",
       "    <tr>\n",
       "      <th>99th</th>\n",
       "      <td>212.86</td>\n",
       "      <td>87.0</td>\n",
       "      <td>91.129</td>\n",
       "      <td>83.86</td>\n",
       "      <td>97.0</td>\n",
       "      <td>76.1142</td>\n",
       "      <td>629000.0</td>\n",
       "    </tr>\n",
       "    <tr>\n",
       "      <th>100th</th>\n",
       "      <td>215.0</td>\n",
       "      <td>89.4</td>\n",
       "      <td>91.15</td>\n",
       "      <td>88.5</td>\n",
       "      <td>98.0</td>\n",
       "      <td>77.89</td>\n",
       "      <td>706250.0</td>\n",
       "    </tr>\n",
       "    <tr>\n",
       "      <th>IQR</th>\n",
       "      <td>107.0</td>\n",
       "      <td>15.1</td>\n",
       "      <td>12.1</td>\n",
       "      <td>11.0</td>\n",
       "      <td>23.5</td>\n",
       "      <td>8.31</td>\n",
       "      <td>282500.0</td>\n",
       "    </tr>\n",
       "    <tr>\n",
       "      <th>1.5IQR</th>\n",
       "      <td>160.5</td>\n",
       "      <td>22.65</td>\n",
       "      <td>18.15</td>\n",
       "      <td>16.5</td>\n",
       "      <td>35.25</td>\n",
       "      <td>12.465</td>\n",
       "      <td>423750.0</td>\n",
       "    </tr>\n",
       "    <tr>\n",
       "      <th>Lesser</th>\n",
       "      <td>-106.0</td>\n",
       "      <td>37.95</td>\n",
       "      <td>42.75</td>\n",
       "      <td>44.5</td>\n",
       "      <td>24.75</td>\n",
       "      <td>45.48</td>\n",
       "      <td>-423750.0</td>\n",
       "    </tr>\n",
       "    <tr>\n",
       "      <th>Greater</th>\n",
       "      <td>322.0</td>\n",
       "      <td>98.35</td>\n",
       "      <td>91.15</td>\n",
       "      <td>88.5</td>\n",
       "      <td>118.75</td>\n",
       "      <td>78.72</td>\n",
       "      <td>706250.0</td>\n",
       "    </tr>\n",
       "    <tr>\n",
       "      <th>Min</th>\n",
       "      <td>1</td>\n",
       "      <td>40.89</td>\n",
       "      <td>42.75</td>\n",
       "      <td>50.0</td>\n",
       "      <td>50.0</td>\n",
       "      <td>51.21</td>\n",
       "      <td>0.0</td>\n",
       "    </tr>\n",
       "    <tr>\n",
       "      <th>Max</th>\n",
       "      <td>215</td>\n",
       "      <td>89.4</td>\n",
       "      <td>91.15</td>\n",
       "      <td>88.5</td>\n",
       "      <td>98.0</td>\n",
       "      <td>77.89</td>\n",
       "      <td>706250.0</td>\n",
       "    </tr>\n",
       "    <tr>\n",
       "      <th>Std</th>\n",
       "      <td>62.209324</td>\n",
       "      <td>10.827205</td>\n",
       "      <td>10.586016</td>\n",
       "      <td>7.321524</td>\n",
       "      <td>13.275956</td>\n",
       "      <td>5.833385</td>\n",
       "      <td>150305.844169</td>\n",
       "    </tr>\n",
       "    <tr>\n",
       "      <th>Variance</th>\n",
       "      <td>3870.0</td>\n",
       "      <td>117.228377</td>\n",
       "      <td>112.063731</td>\n",
       "      <td>53.60471</td>\n",
       "      <td>176.251018</td>\n",
       "      <td>34.028376</td>\n",
       "      <td>22591846791.458385</td>\n",
       "    </tr>\n",
       "  </tbody>\n",
       "</table>\n",
       "</div>"
      ],
      "text/plain": [
       "              sl_no       ssc_p       hsc_p   degree_p     etest_p      mba_p  \\\n",
       "Mean          108.0   67.303395   66.334744  66.358558   72.100558  62.278186   \n",
       "Median        108.0        67.0        65.0       66.0        71.0       62.0   \n",
       "Mode              1        62.0        63.0       65.0        60.0       56.7   \n",
       "25th           54.5        60.6        60.9       61.0        60.0     57.945   \n",
       "50th          108.0        67.0        65.0       66.0        71.0       62.0   \n",
       "75th          161.5        75.7        73.0       72.0        83.5     66.255   \n",
       "99th         212.86        87.0      91.129      83.86        97.0    76.1142   \n",
       "100th         215.0        89.4       91.15       88.5        98.0      77.89   \n",
       "IQR           107.0        15.1        12.1       11.0        23.5       8.31   \n",
       "1.5IQR        160.5       22.65       18.15       16.5       35.25     12.465   \n",
       "Lesser       -106.0       37.95       42.75       44.5       24.75      45.48   \n",
       "Greater       322.0       98.35       91.15       88.5      118.75      78.72   \n",
       "Min               1       40.89       42.75       50.0        50.0      51.21   \n",
       "Max             215        89.4       91.15       88.5        98.0      77.89   \n",
       "Std       62.209324   10.827205   10.586016   7.321524   13.275956   5.833385   \n",
       "Variance     3870.0  117.228377  112.063731   53.60471  176.251018  34.028376   \n",
       "\n",
       "                      salary  \n",
       "Mean           197615.116279  \n",
       "Median              240000.0  \n",
       "Mode                     0.0  \n",
       "25th                     0.0  \n",
       "50th                240000.0  \n",
       "75th                282500.0  \n",
       "99th                629000.0  \n",
       "100th               706250.0  \n",
       "IQR                 282500.0  \n",
       "1.5IQR              423750.0  \n",
       "Lesser             -423750.0  \n",
       "Greater             706250.0  \n",
       "Min                      0.0  \n",
       "Max                 706250.0  \n",
       "Std            150305.844169  \n",
       "Variance  22591846791.458385  "
      ]
     },
     "execution_count": 16,
     "metadata": {},
     "output_type": "execute_result"
    }
   ],
   "source": [
    "Uni_after"
   ]
  },
  {
   "cell_type": "code",
   "execution_count": 17,
   "id": "756ffd5a",
   "metadata": {},
   "outputs": [],
   "source": [
    "lesser=[]\n",
    "greater=[]\n",
    "\n",
    "for columName in quan:\n",
    "    if(Uni_after[columName][\"Lesser\"]>Uni_after[columName][\"Min\"]):\n",
    "        lesser.append(columName)\n",
    "    if(Uni_after[columName][\"Greater\"]<Uni_after[columName][\"Max\"]):\n",
    "        greater.append(columName)\n",
    "        "
   ]
  },
  {
   "cell_type": "code",
   "execution_count": 18,
   "id": "1f08c33c",
   "metadata": {},
   "outputs": [
    {
     "data": {
      "text/plain": [
       "[]"
      ]
     },
     "execution_count": 18,
     "metadata": {},
     "output_type": "execute_result"
    }
   ],
   "source": [
    "lesser"
   ]
  },
  {
   "cell_type": "code",
   "execution_count": 19,
   "id": "2690a416",
   "metadata": {},
   "outputs": [
    {
     "data": {
      "text/plain": [
       "[]"
      ]
     },
     "execution_count": 19,
     "metadata": {},
     "output_type": "execute_result"
    }
   ],
   "source": [
    "greater"
   ]
  },
  {
   "cell_type": "code",
   "execution_count": 20,
   "id": "2e276870",
   "metadata": {},
   "outputs": [],
   "source": [
    "dataset.to_csv(\"Pre_processed_Placement.csv\",index=False)"
   ]
  },
  {
   "cell_type": "code",
   "execution_count": 21,
   "id": "aad568eb",
   "metadata": {},
   "outputs": [
    {
     "name": "stderr",
     "output_type": "stream",
     "text": [
      "C:\\Users\\Yaazh\\AppData\\Local\\Temp\\ipykernel_19852\\2494710605.py:4: FutureWarning: Dropping of nuisance columns in DataFrame reductions (with 'numeric_only=None') is deprecated; in a future version this will raise TypeError.  Select only valid columns before calling the reduction.\n",
      "  dataset.skew()\n"
     ]
    },
    {
     "data": {
      "text/plain": [
       "sl_no       0.000000\n",
       "ssc_p      -0.132649\n",
       "hsc_p       0.162611\n",
       "degree_p    0.204164\n",
       "etest_p     0.282308\n",
       "mba_p       0.313576\n",
       "salary      0.125415\n",
       "dtype: float64"
      ]
     },
     "execution_count": 21,
     "metadata": {},
     "output_type": "execute_result"
    }
   ],
   "source": [
    "#skew<0--Negative --Mean --left\n",
    "#skew>0--Postive--Mode --Right\n",
    "#skew=0--Normal--equal values --Center\n",
    "dataset.skew()"
   ]
  },
  {
   "cell_type": "code",
   "execution_count": 22,
   "id": "37701124",
   "metadata": {},
   "outputs": [
    {
     "name": "stderr",
     "output_type": "stream",
     "text": [
      "C:\\Users\\Yaazh\\AppData\\Local\\Temp\\ipykernel_19852\\3460031871.py:4: FutureWarning: Dropping of nuisance columns in DataFrame reductions (with 'numeric_only=None') is deprecated; in a future version this will raise TypeError.  Select only valid columns before calling the reduction.\n",
      "  dataset.kurtosis()\n"
     ]
    },
    {
     "data": {
      "text/plain": [
       "sl_no      -1.200000\n",
       "ssc_p      -0.607510\n",
       "hsc_p       0.086901\n",
       "degree_p   -0.097490\n",
       "etest_p    -1.088580\n",
       "mba_p      -0.470723\n",
       "salary      0.025787\n",
       "dtype: float64"
      ]
     },
     "execution_count": 22,
     "metadata": {},
     "output_type": "execute_result"
    }
   ],
   "source": [
    "#kurtosis<3--PlatyKurtic\n",
    "#Kurtosis>3 --Laptokurtic\n",
    "#kurtosis=3 --mesokurtic\n",
    "dataset.kurtosis()"
   ]
  },
  {
   "cell_type": "code",
   "execution_count": 23,
   "id": "9698c665",
   "metadata": {},
   "outputs": [
    {
     "name": "stderr",
     "output_type": "stream",
     "text": [
      "C:\\Users\\Yaazh\\anaconda3\\lib\\site-packages\\seaborn\\distributions.py:2619: FutureWarning: `distplot` is a deprecated function and will be removed in a future version. Please adapt your code to use either `displot` (a figure-level function with similar flexibility) or `histplot` (an axes-level function for histograms).\n",
      "  warnings.warn(msg, FutureWarning)\n"
     ]
    },
    {
     "data": {
      "text/plain": [
       "<AxesSubplot:xlabel='ssc_p', ylabel='Density'>"
      ]
     },
     "execution_count": 23,
     "metadata": {},
     "output_type": "execute_result"
    },
    {
     "data": {
      "image/png": "[encoded data removed]",
      "text/plain": [
       "<Figure size 432x288 with 1 Axes>"
      ]
     },
     "metadata": {
      "needs_background": "light"
     },
     "output_type": "display_data"
    }
   ],
   "source": [
    "import seaborn as sns\n",
    "sns.distplot(dataset[\"ssc_p\"])"
   ]
  },
  {
   "cell_type": "code",
   "execution_count": 24,
   "id": "4f318f5d",
   "metadata": {},
   "outputs": [
    {
     "data": {
      "text/plain": [
       "10.827205398231452"
      ]
     },
     "execution_count": 24,
     "metadata": {},
     "output_type": "execute_result"
    }
   ],
   "source": [
    "dataset[\"ssc_p\"].std()"
   ]
  },
  {
   "cell_type": "code",
   "execution_count": 25,
   "id": "1895219c",
   "metadata": {},
   "outputs": [
    {
     "data": {
      "text/plain": [
       "117.22837673549229"
      ]
     },
     "execution_count": 25,
     "metadata": {},
     "output_type": "execute_result"
    }
   ],
   "source": [
    "dataset[\"ssc_p\"].var()"
   ]
  },
  {
   "cell_type": "code",
   "execution_count": null,
   "id": "5b5e4509",
   "metadata": {},
   "outputs": [],
   "source": []
  }
 ],
 "metadata": {
  "kernelspec": {
   "display_name": "Python 3 (ipykernel)",
   "language": "python",
   "name": "python3"
  },
  "language_info": {
   "codemirror_mode": {
    "name": "ipython",
    "version": 3
   },
   "file_extension": ".py",
   "mimetype": "text/x-python",
   "name": "python",
   "nbconvert_exporter": "python",
   "pygments_lexer": "ipython3",
   "version": "3.9.12"
  }
 },
 "nbformat": 4,
 "nbformat_minor": 5
}
